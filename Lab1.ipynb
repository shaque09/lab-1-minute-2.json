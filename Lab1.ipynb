{
 "cells": [
  {
   "cell_type": "markdown",
   "metadata": {},
   "source": [
    "# Lab 1 - Intro to Jupyter Notebooks\n",
    "\n",
    "In this assignment you will be asked to perform some basic tasks related to the operations of Jupyter notebooks. Learning these basics is important since Jupyter Notebooks will be one of the ways you will be turning in assignments this semester. All the information needed to complete this can be found in the assigned reading for this week. [Week1 Reading](https://realpython.com/jupyter-notebook-introduction/)"
   ]
  },
  {
   "cell_type": "markdown",
   "metadata": {},
   "source": [
    "### Notebook basics\n",
    "\n",
    "We will go over some basic notebook functions and after that, we will move on to learn some of the basics of Python. Try to run the following code block. Remember that the shortcut is `shift+enter`:"
   ]
  },
  {
   "cell_type": "code",
   "execution_count": null,
   "metadata": {},
   "outputs": [],
   "source": [
    "print(\"Welcome to SDA 250!\")\n",
    "print(\"Using the 'insert' tab add a code block and change its type to \\\"markdown\\\" using the drop-down bar. \")\n",
    "print(\"In that markdown block write a short introduction about why you are taking this course.\")\n",
    "print(\"Don't forget to add your name at the top as a header.\")\n",
    "print(\"Also add a bullet list of the top 3 skills you want to learn in this course.\")"
   ]
  },
  {
   "cell_type": "markdown",
   "metadata": {},
   "source": [
    "Great! We hope you have fun in the course while learning about using text as data and how to process it. Now that you know how to add \"markdown\" blocks, you should make sure to use them during this semester to add explanations to your code. If you want more information on how to style using markdown, go to this link: [Markdown Syntax](https://www.markdownguide.org/basic-syntax/)"
   ]
  },
  {
   "cell_type": "markdown",
   "metadata": {},
   "source": [
    "***\n",
    "Next, create a code block and use it to print whether you have any programming experience.\n",
    "\n",
    "Remember that to print in python, you use the `print()` function and put whatever you want to print in quotation marks inside the parentheses\n",
    "\n",
    "***"
   ]
  },
  {
   "cell_type": "markdown",
   "metadata": {},
   "source": [
    "***\n",
    "Every introduction to programming needs to start with printing the phrase \"Hello world!\". So use the `print()` function to do so below.\n",
    "***"
   ]
  },
  {
   "cell_type": "markdown",
   "metadata": {},
   "source": [
    "***\n",
    "Good, now that you know the two more important aspects of jupyter notebooks, why don't you delete this block since its quite useless :)\n",
    "***"
   ]
  },
  {
   "cell_type": "markdown",
   "metadata": {},
   "source": [
    "### A short introduction to Python\n",
    "\n",
    "For the last part of this lab we will have a quick look at some basic python syntax.\n",
    "\n",
    "You already learned how to print something in python using the `print()` function. Functions like print are going to allow you to interact with the data, analyze it, and modify it. But in order to use various functions, we first need to look at what **variables** are.\n",
    "\n",
    "A variable is really just a way to store information like numbers, strings of words or even whole texts. To use a variable in Python you need to give the variable a name and then give it some value."
   ]
  },
  {
   "cell_type": "markdown",
   "metadata": {},
   "source": [
    "***\n",
    "In the following code block I created two variables, one called `name` which stores a string and one called `age` which stores a number. I then print them out.\n",
    "\n",
    "Notice that in order to assign strings to a variable you need to put the string in quotation marks. Whenever Python sees something in quotation marks, it will assume that it is a string. This means that when you want to print the contents of a variable, you do not want to put it in quotation marks, since that will just print the name of the variable instead of the contents.\n",
    "\n",
    "Before running the following code block, try to understand what it does and to predict what it will output. Now that you have a prediction, go ahead and run it. Did the prediction come true?\n",
    "***"
   ]
  },
  {
   "cell_type": "code",
   "execution_count": null,
   "metadata": {},
   "outputs": [],
   "source": [
    "name = \"sam\"\n",
    "age = 21\n",
    "\n",
    "print(name)\n",
    "print(age)\n",
    "\n",
    "# if we put quotation marks around the variable name it will just print the name of the variable\n",
    "print(\"name\")\n",
    "print(\"age\")"
   ]
  },
  {
   "cell_type": "markdown",
   "metadata": {},
   "source": [
    "Take note of the 'comment' line. A comment line in python is any line that starts with a \"hashtag\". This hashtag tells Python to ignore whatever is behind the hashtag and to go to the next line."
   ]
  },
  {
   "cell_type": "markdown",
   "metadata": {},
   "source": [
    "***\n",
    "Now create another code block and create some of your own variables and give them a value. Then Ppint the variables and use comments to predict what they will print. Also, try to put quotation marks around the variable name and predict what it will print.\n",
    "***"
   ]
  },
  {
   "cell_type": "markdown",
   "metadata": {},
   "source": [
    "***\n",
    "Now that you are familiar with variables, comments, and how to print we will move on to some basic math operations. Python supports the basic math operators `+`, `-`, `*` and `/` \n",
    "which stand for addition, subtraction, multiplication and division. Try to predict the answers of the following print statements before running them. Insert your predictions in the comments __before__ running them!\n",
    "***"
   ]
  },
  {
   "cell_type": "code",
   "execution_count": null,
   "metadata": {},
   "outputs": [],
   "source": [
    "# this will print: \n",
    "print(1+2)"
   ]
  },
  {
   "cell_type": "code",
   "execution_count": null,
   "metadata": {},
   "outputs": [],
   "source": [
    "# this will print:\n",
    "print(3*4)"
   ]
  },
  {
   "cell_type": "code",
   "execution_count": null,
   "metadata": {},
   "outputs": [],
   "source": [
    "x = 10\n",
    "y = 5\n",
    "\n",
    "# this will print:\n",
    "print(x - y)"
   ]
  },
  {
   "cell_type": "code",
   "execution_count": null,
   "metadata": {},
   "outputs": [],
   "source": [
    "number1 = 15\n",
    "number2 = 3\n",
    "result = number1 / number2\n",
    "\n",
    "# this will print:\n",
    "print(number1)\n",
    "\n",
    "# this will print:\n",
    "print(\"number2\")\n",
    "\n",
    "# this will print:\n",
    "print(result)"
   ]
  },
  {
   "cell_type": "markdown",
   "metadata": {},
   "source": [
    "Before doing the last exercise of this lab we will go over a special use of \"+\" in python. Besides using it to add two numbers we can use the \"+\" operator to glue together two strings. This special use is called ***string concatenation***."
   ]
  },
  {
   "cell_type": "code",
   "execution_count": null,
   "metadata": {},
   "outputs": [],
   "source": [
    "firstName = \"Taylor\"\n",
    "lastName = \"Williams\"\n",
    "fullName = firstName + lastName\n",
    "\n",
    "# this will print:\n",
    "print(fullName)"
   ]
  },
  {
   "cell_type": "markdown",
   "metadata": {},
   "source": [
    "If you predicted that it would print \"Taylor Williams\" then you may be a bit confused why it didn't, but don't worry. A computer is very particular about what it does. You need to specify everything exactly... down to the spaces that you want it to print. Because I told Python to glue together \"Taylor\" and \"Williams\" that is exactly what Python did. Since it did not see a space in either of the strings it didn't print it. So if you wanted to print \"Taylor Williams\" then you need to add the space like I do in the next code block:"
   ]
  },
  {
   "cell_type": "code",
   "execution_count": null,
   "metadata": {},
   "outputs": [],
   "source": [
    "fullName = firstName + \" \" + lastName\n",
    "\n",
    "# This will print the correct full name\n",
    "print(fullName)\n",
    "\n",
    "# You could also add the space in the print statement itself\n",
    "print(firstName + \" \" + lastName)"
   ]
  },
  {
   "cell_type": "markdown",
   "metadata": {},
   "source": [
    "Note the conventions for naming variables. The variable \"fullName\" starts with small case, but uses upper case to indicate where a new word starts. This is called \"camel case\". Can you see the camel hump? 🐪"
   ]
  },
  {
   "cell_type": "markdown",
   "metadata": {},
   "source": [
    "***\n",
    "As the last exercise, try to use everything you have learned in this lab. Start by making variables to store the following things: \n",
    "\n",
    "- first name\n",
    "- last name\n",
    "- preferred name\n",
    "- preferred pronouns\n",
    "- favorite number\n",
    "\n",
    "Then, print: \n",
    "- first name and last name\n",
    "- your preferred name, followed by pronouns in parentheses\n",
    "- print \"My favorite number is x\" where x is your favorite number\n",
    "\n",
    "Make sure to use string concatenation and the variable that contains it and don't just do the following: `print(\"My favorite number is 7\")`\n",
    "\n",
    "Then, do some math with your favorite number. Multiply your favorite number by itself, add your favorite number to 10, etc. Just try to use all the operators described in this lab.\n",
    "***"
   ]
  },
  {
   "cell_type": "markdown",
   "metadata": {},
   "source": [
    "## Minute paper #2\n",
    "\n",
    "Enter below (using print() if you want) the contents of your minute paper for this week. The prompt is: \n",
    "* What are two ethical considerations when dealing with data?\n"
   ]
  },
  {
   "cell_type": "markdown",
   "metadata": {},
   "source": [
    "That is the end of the lab! 👏\n",
    "\n",
    "If you want to learn more Python on your own, this is a good resource: [Learn Python](https://www.learnpython.org/)"
   ]
  },
  {
   "cell_type": "code",
   "execution_count": null,
   "metadata": {},
   "outputs": [],
   "source": []
  }
 ],
 "metadata": {
  "kernelspec": {
   "display_name": "Python 3",
   "language": "python",
   "name": "python3"
  },
  "language_info": {
   "codemirror_mode": {
    "name": "ipython",
    "version": 3
   },
   "file_extension": ".py",
   "mimetype": "text/x-python",
   "name": "python",
   "nbconvert_exporter": "python",
   "pygments_lexer": "ipython3",
   "version": "3.7.3"
  }
 },
 "nbformat": 4,
 "nbformat_minor": 4
}
